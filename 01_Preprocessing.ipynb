{
 "cells": [
  {
   "cell_type": "markdown",
   "id": "d25b9387",
   "metadata": {},
   "source": [
    "1. Dataset creation and manipulation"
   ]
  },
  {
   "cell_type": "code",
   "execution_count": 1,
   "id": "f73b6458",
   "metadata": {},
   "outputs": [],
   "source": [
    "# Import necessary libraries\n",
    "import pandas as pd\n",
    "import numpy as np\n",
    "import matplotlib.pyplot as plt\n",
    "import seaborn as sns\n",
    "from datetime import datetime\n",
    "import re\n",
    "import warnings\n",
    "warnings.filterwarnings('ignore')"
   ]
  },
  {
   "cell_type": "markdown",
   "id": "8b3b2441",
   "metadata": {},
   "source": [
    "## 1. Load Raw Data\n"
   ]
  },
  {
   "cell_type": "code",
   "execution_count": 2,
   "id": "d7de1376",
   "metadata": {},
   "outputs": [
    {
     "name": "stdout",
     "output_type": "stream",
     "text": [
      "Dataset shapes:\n",
      "sentiment_labeled_data: (5791, 2)\n",
      "stock_tweets: (80793, 4)\n",
      "stock_prices: (6300, 8)\n"
     ]
    }
   ],
   "source": [
    "# Load the datasets\n",
    "sentiment_labeled_data = pd.read_csv('data/raw/stock_data.csv')\n",
    "stock_tweets = pd.read_csv('data/raw/stock_tweets_d1.csv')\n",
    "stock_prices = pd.read_csv('data/raw/stock_yfinance_data_d1.csv')\n",
    "\n",
    "print(\"Dataset shapes:\")\n",
    "print(f\"sentiment_labeled_data: {sentiment_labeled_data.shape}\")\n",
    "print(f\"stock_tweets: {stock_tweets.shape}\")\n",
    "print(f\"stock_prices: {stock_prices.shape}\")\n"
   ]
  },
  {
   "cell_type": "markdown",
   "id": "28f14838",
   "metadata": {},
   "source": [
    "## 2. Explore the Data\n"
   ]
  },
  {
   "cell_type": "code",
   "execution_count": 3,
   "id": "5c4faae2",
   "metadata": {},
   "outputs": [
    {
     "name": "stdout",
     "output_type": "stream",
     "text": [
      "\n",
      "First few rows:\n",
      "                                                Text  Sentiment\n",
      "0  Kickers on my watchlist XIDE TIT SOQ PNK CPW B...          1\n",
      "1  user: AAP MOVIE. 55% return for the FEA/GEED i...          1\n",
      "2  user I'd be afraid to short AMZN - they are lo...          1\n",
      "3                                  MNTA Over 12.00            1\n",
      "4                                   OI  Over 21.37            1\n",
      "\n",
      "Info:\n",
      "<class 'pandas.core.frame.DataFrame'>\n",
      "RangeIndex: 5791 entries, 0 to 5790\n",
      "Data columns (total 2 columns):\n",
      " #   Column     Non-Null Count  Dtype \n",
      "---  ------     --------------  ----- \n",
      " 0   Text       5791 non-null   object\n",
      " 1   Sentiment  5791 non-null   int64 \n",
      "dtypes: int64(1), object(1)\n",
      "memory usage: 90.6+ KB\n",
      "None\n",
      "\n",
      "Sentiment distribution:\n",
      "Sentiment\n",
      " 1    3685\n",
      "-1    2106\n",
      "Name: count, dtype: int64\n",
      "\n",
      "Missing values:\n",
      "Text         0\n",
      "Sentiment    0\n",
      "dtype: int64\n"
     ]
    }
   ],
   "source": [
    "# Explore sentiment_labeled_data (labeled sentiment data)\n",
    "print(\"\\nFirst few rows:\")\n",
    "print(sentiment_labeled_data.head())\n",
    "print(\"\\nInfo:\")\n",
    "print(sentiment_labeled_data.info())\n",
    "print(\"\\nSentiment distribution:\")\n",
    "print(sentiment_labeled_data['Sentiment'].value_counts())\n",
    "print(\"\\nMissing values:\")\n",
    "print(sentiment_labeled_data.isnull().sum())\n"
   ]
  },
  {
   "cell_type": "code",
   "execution_count": 4,
   "id": "eaec6b3a",
   "metadata": {},
   "outputs": [
    {
     "name": "stdout",
     "output_type": "stream",
     "text": [
      "\n",
      "First few rows:\n",
      "                        Date  \\\n",
      "0  2022-09-29 23:41:16+00:00   \n",
      "1  2022-09-29 23:24:43+00:00   \n",
      "2  2022-09-29 23:18:08+00:00   \n",
      "3  2022-09-29 22:40:07+00:00   \n",
      "4  2022-09-29 22:27:05+00:00   \n",
      "\n",
      "                                               Tweet Stock Name Company Name  \n",
      "0  Mainstream media has done an amazing job at br...       TSLA  Tesla, Inc.  \n",
      "1  Tesla delivery estimates are at around 364k fr...       TSLA  Tesla, Inc.  \n",
      "2  3/ Even if I include 63.0M unvested RSUs as of...       TSLA  Tesla, Inc.  \n",
      "3  @RealDanODowd @WholeMarsBlog @Tesla Hahaha why...       TSLA  Tesla, Inc.  \n",
      "4  @RealDanODowd @Tesla Stop trying to kill kids,...       TSLA  Tesla, Inc.  \n",
      "\n",
      "Info:\n",
      "<class 'pandas.core.frame.DataFrame'>\n",
      "RangeIndex: 80793 entries, 0 to 80792\n",
      "Data columns (total 4 columns):\n",
      " #   Column        Non-Null Count  Dtype \n",
      "---  ------        --------------  ----- \n",
      " 0   Date          80793 non-null  object\n",
      " 1   Tweet         80793 non-null  object\n",
      " 2   Stock Name    80793 non-null  object\n",
      " 3   Company Name  80793 non-null  object\n",
      "dtypes: object(4)\n",
      "memory usage: 2.5+ MB\n",
      "None\n",
      "\n",
      "Unique stocks:\n",
      "Stock Name\n",
      "TSLA    37422\n",
      "TSM     11034\n",
      "AAPL     5056\n",
      "PG       4089\n",
      "AMZN     4089\n",
      "MSFT     4089\n",
      "NIO      3021\n",
      "META     2751\n",
      "AMD      2227\n",
      "NFLX     1727\n",
      "GOOG     1291\n",
      "PYPL      843\n",
      "DIS       635\n",
      "BA        399\n",
      "COST      393\n",
      "INTC      315\n",
      "KO        310\n",
      "CRM       233\n",
      "XPEV      225\n",
      "ENPH      216\n",
      "ZS        193\n",
      "VZ        123\n",
      "BX         50\n",
      "NOC        31\n",
      "F          31\n",
      "Name: count, dtype: int64\n",
      "\n",
      "Missing values:\n"
     ]
    },
    {
     "name": "stdout",
     "output_type": "stream",
     "text": [
      "Date            0\n",
      "Tweet           0\n",
      "Stock Name      0\n",
      "Company Name    0\n",
      "dtype: int64\n"
     ]
    }
   ],
   "source": [
    "# Explore stock_tweets (tweets with stock info)\n",
    "print(\"\\nFirst few rows:\")\n",
    "print(stock_tweets.head())\n",
    "print(\"\\nInfo:\")\n",
    "print(stock_tweets.info())\n",
    "print(\"\\nUnique stocks:\")\n",
    "print(stock_tweets['Stock Name'].value_counts())\n",
    "print(\"\\nMissing values:\")\n",
    "print(stock_tweets.isnull().sum())\n"
   ]
  },
  {
   "cell_type": "code",
   "execution_count": 5,
   "id": "b74b5b40",
   "metadata": {},
   "outputs": [
    {
     "name": "stdout",
     "output_type": "stream",
     "text": [
      "\n",
      "First few rows:\n",
      "         Date        Open        High         Low       Close   Adj Close  \\\n",
      "0  2021-09-30  260.333344  263.043335  258.333344  258.493347  258.493347   \n",
      "1  2021-10-01  259.466675  260.260010  254.529999  258.406677  258.406677   \n",
      "2  2021-10-04  265.500000  268.989990  258.706665  260.510010  260.510010   \n",
      "3  2021-10-05  261.600006  265.769989  258.066681  260.196655  260.196655   \n",
      "4  2021-10-06  258.733337  262.220001  257.739990  260.916656  260.916656   \n",
      "\n",
      "     Volume Stock Name  \n",
      "0  53868000       TSLA  \n",
      "1  51094200       TSLA  \n",
      "2  91449900       TSLA  \n",
      "3  55297800       TSLA  \n",
      "4  43898400       TSLA  \n",
      "\n",
      "Info:\n",
      "<class 'pandas.core.frame.DataFrame'>\n",
      "RangeIndex: 6300 entries, 0 to 6299\n",
      "Data columns (total 8 columns):\n",
      " #   Column      Non-Null Count  Dtype  \n",
      "---  ------      --------------  -----  \n",
      " 0   Date        6300 non-null   object \n",
      " 1   Open        6300 non-null   float64\n",
      " 2   High        6300 non-null   float64\n",
      " 3   Low         6300 non-null   float64\n",
      " 4   Close       6300 non-null   float64\n",
      " 5   Adj Close   6300 non-null   float64\n",
      " 6   Volume      6300 non-null   int64  \n",
      " 7   Stock Name  6300 non-null   object \n",
      "dtypes: float64(5), int64(1), object(2)\n",
      "memory usage: 393.9+ KB\n",
      "None\n",
      "\n",
      "Date range:\n",
      "From 2021-09-30 00:00:00 to 2022-09-29 00:00:00\n",
      "\n",
      "Unique stocks:\n",
      "Stock Name\n",
      "TSLA    252\n",
      "DIS     252\n",
      "ZS      252\n",
      "NIO     252\n",
      "ENPH    252\n",
      "PYPL    252\n",
      "NOC     252\n",
      "BX      252\n",
      "BA      252\n",
      "INTC    252\n",
      "CRM     252\n",
      "VZ      252\n",
      "COST    252\n",
      "MSFT    252\n",
      "F       252\n",
      "KO      252\n",
      "TSM     252\n",
      "NFLX    252\n",
      "AAPL    252\n",
      "AMD     252\n",
      "GOOG    252\n",
      "AMZN    252\n",
      "META    252\n",
      "PG      252\n",
      "XPEV    252\n",
      "Name: count, dtype: int64\n",
      "\n",
      "Missing values:\n",
      "Date          0\n",
      "Open          0\n",
      "High          0\n",
      "Low           0\n",
      "Close         0\n",
      "Adj Close     0\n",
      "Volume        0\n",
      "Stock Name    0\n",
      "dtype: int64\n"
     ]
    }
   ],
   "source": [
    "# Explore stock_prices (yfinance data)\n",
    "print(\"\\nFirst few rows:\")\n",
    "print(stock_prices.head())\n",
    "print(\"\\nInfo:\")\n",
    "print(stock_prices.info())\n",
    "print(\"\\nDate range:\")\n",
    "stock_prices['Date'] = pd.to_datetime(stock_prices['Date'])\n",
    "print(f\"From {stock_prices['Date'].min()} to {stock_prices['Date'].max()}\")\n",
    "print(\"\\nUnique stocks:\")\n",
    "print(stock_prices['Stock Name'].value_counts())\n",
    "print(\"\\nMissing values:\")\n",
    "print(stock_prices.isnull().sum())\n"
   ]
  },
  {
   "cell_type": "markdown",
   "id": "33830898",
   "metadata": {},
   "source": [
    "## 3. Clean and Preprocess Data\n"
   ]
  },
  {
   "cell_type": "code",
   "execution_count": 6,
   "id": "ad5b5af7",
   "metadata": {},
   "outputs": [
    {
     "name": "stdout",
     "output_type": "stream",
     "text": [
      "Text cleaning function with ticker preservation defined!\n"
     ]
    }
   ],
   "source": [
    "# Text cleaning function with ticker preservation\n",
    "def clean_text(text):\n",
    "    \"\"\"Clean and preprocess tweet text - preserves stock ticker symbols\"\"\"\n",
    "    if pd.isna(text):\n",
    "        return \"\"\n",
    "    \n",
    "    \n",
    "    # Convert to lowercase (tickers now preserved as ticker_xxx)\n",
    "    text = text.lower()\n",
    "    \n",
    "    # Remove URLs\n",
    "    text = re.sub(r'http\\S+|www\\S+|https\\S+', '', text, flags=re.MULTILINE)\n",
    "    \n",
    "    # Remove user mentions and hashtags symbols (but keep the text)\n",
    "    text = re.sub(r'@\\w+', '', text)\n",
    "    text = re.sub(r'#', '', text)\n",
    "    \n",
    "    # Keep letters, digits, spaces, underscores (for ticker_), and financial symbols (%, $, .)\n",
    "    text = re.sub(r'[^a-z0-9\\s%$._€]', '', text)\n",
    "    \n",
    "    # Remove extra whitespace\n",
    "    text = ' '.join(text.split())\n",
    "    \n",
    "    return text\n",
    "\n",
    "print(\"Text cleaning function with ticker preservation defined!\")\n"
   ]
  },
  {
   "cell_type": "code",
   "execution_count": 7,
   "id": "0d3f960f",
   "metadata": {},
   "outputs": [
    {
     "name": "stdout",
     "output_type": "stream",
     "text": [
      "Original rows: 5791\n",
      "Rows after cleaning: 5791\n",
      "\n",
      "Sample cleaned tweets:\n",
      "                                                Text  \\\n",
      "0  Kickers on my watchlist XIDE TIT SOQ PNK CPW B...   \n",
      "1  user: AAP MOVIE. 55% return for the FEA/GEED i...   \n",
      "2  user I'd be afraid to short AMZN - they are lo...   \n",
      "3                                  MNTA Over 12.00     \n",
      "4                                   OI  Over 21.37     \n",
      "\n",
      "                                        cleaned_text  Sentiment  \n",
      "0  kickers on my watchlist xide tit soq pnk cpw b...          1  \n",
      "1  user aap movie. 55% return for the feageed ind...          1  \n",
      "2  user id be afraid to short amzn they are looki...          1  \n",
      "3                                    mnta over 12.00          1  \n",
      "4                                      oi over 21.37          1  \n"
     ]
    }
   ],
   "source": [
    "# Process sentiment_labeled_data (labeled sentiment tweets)\n",
    "sentiment_labeled_data_cleaned = sentiment_labeled_data.copy()\n",
    "\n",
    "# Clean the text\n",
    "sentiment_labeled_data_cleaned['cleaned_text'] = sentiment_labeled_data_cleaned['Text'].apply(clean_text)\n",
    "\n",
    "# Remove rows with empty cleaned text\n",
    "sentiment_labeled_data_cleaned = sentiment_labeled_data_cleaned[sentiment_labeled_data_cleaned['cleaned_text'].str.len() > 0]\n",
    "\n",
    "print(f\"Original rows: {len(sentiment_labeled_data)}\")\n",
    "print(f\"Rows after cleaning: {len(sentiment_labeled_data_cleaned)}\")\n",
    "print(f\"\\nSample cleaned tweets:\")\n",
    "print(sentiment_labeled_data_cleaned[['Text', 'cleaned_text', 'Sentiment']].head())\n"
   ]
  },
  {
   "cell_type": "code",
   "execution_count": 8,
   "id": "d6f0c562",
   "metadata": {},
   "outputs": [
    {
     "name": "stdout",
     "output_type": "stream",
     "text": [
      "Original rows: 80793\n",
      "Rows after cleaning: 80792\n",
      "\n",
      "Sample cleaned tweets:\n",
      "                       Date  \\\n",
      "0 2022-09-29 23:41:16+00:00   \n",
      "1 2022-09-29 23:24:43+00:00   \n",
      "2 2022-09-29 23:18:08+00:00   \n",
      "3 2022-09-29 22:40:07+00:00   \n",
      "4 2022-09-29 22:27:05+00:00   \n",
      "\n",
      "                                       cleaned_tweet Stock Name  \n",
      "0  mainstream media has done an amazing job at br...       TSLA  \n",
      "1  tesla delivery estimates are at around 364k fr...       TSLA  \n",
      "2  3 even if i include 63.0m unvested rsus as of ...       TSLA  \n",
      "3  hahaha why are you still trying to stop tesla ...       TSLA  \n",
      "4  stop trying to kill kids you sad deranged old man       TSLA  \n"
     ]
    }
   ],
   "source": [
    "# Process stock_tweets\n",
    "stock_tweets_cleaned = stock_tweets.copy()\n",
    "\n",
    "# Convert date column to datetime\n",
    "stock_tweets_cleaned['Date'] = pd.to_datetime(stock_tweets_cleaned['Date'])\n",
    "\n",
    "# Clean the tweet text\n",
    "stock_tweets_cleaned['cleaned_tweet'] = stock_tweets_cleaned['Tweet'].apply(clean_text)\n",
    "\n",
    "# Remove rows with empty cleaned text\n",
    "stock_tweets_cleaned = stock_tweets_cleaned[stock_tweets_cleaned['cleaned_tweet'].str.len() > 0]\n",
    "\n",
    "# Extract date only (without time) for easier merging with stock prices\n",
    "stock_tweets_cleaned['date_only'] = stock_tweets_cleaned['Date'].dt.date\n",
    "\n",
    "print(f\"Original rows: {len(stock_tweets)}\")\n",
    "print(f\"Rows after cleaning: {len(stock_tweets_cleaned)}\")\n",
    "print(f\"\\nSample cleaned tweets:\")\n",
    "print(stock_tweets_cleaned[['Date', 'cleaned_tweet', 'Stock Name']].head())\n"
   ]
  },
  {
   "cell_type": "code",
   "execution_count": 9,
   "id": "79a1d29c",
   "metadata": {},
   "outputs": [
    {
     "name": "stdout",
     "output_type": "stream",
     "text": [
      "Original rows: 6300\n",
      "Rows after processing: 6275\n",
      "\n",
      "Sample processed data:\n",
      "        Date        Open        High         Low       Close   Adj Close  \\\n",
      "1 2021-10-01  259.466675  260.260010  254.529999  258.406677  258.406677   \n",
      "2 2021-10-04  265.500000  268.989990  258.706665  260.510010  260.510010   \n",
      "3 2021-10-05  261.600006  265.769989  258.066681  260.196655  260.196655   \n",
      "4 2021-10-06  258.733337  262.220001  257.739990  260.916656  260.916656   \n",
      "5 2021-10-07  261.820007  268.333344  261.126678  264.536682  264.536682   \n",
      "\n",
      "     Volume Stock Name  daily_return  price_range   date_only  \n",
      "1  51094200       TSLA     -0.000335     5.730011  2021-10-01  \n",
      "2  91449900       TSLA      0.008140    10.283325  2021-10-04  \n",
      "3  55297800       TSLA     -0.001203     7.703308  2021-10-05  \n",
      "4  43898400       TSLA      0.002767     4.480011  2021-10-06  \n",
      "5  57587400       TSLA      0.013874     7.206665  2021-10-07  \n"
     ]
    }
   ],
   "source": [
    "# Process stock_prices\n",
    "stock_prices_cleaned = stock_prices.copy()\n",
    "\n",
    "# Date is already converted to datetime in previous cell\n",
    "# Calculate additional features\n",
    "stock_prices_cleaned['daily_return'] = stock_prices_cleaned.groupby('Stock Name')['Close'].pct_change()\n",
    "stock_prices_cleaned['price_range'] = stock_prices_cleaned['High'] - stock_prices_cleaned['Low']\n",
    "stock_prices_cleaned['date_only'] = stock_prices_cleaned['Date'].dt.date\n",
    "\n",
    "# Handle any missing values\n",
    "stock_prices_cleaned = stock_prices_cleaned.dropna()\n",
    "\n",
    "print(f\"Original rows: {len(stock_prices)}\")\n",
    "print(f\"Rows after processing: {len(stock_prices_cleaned)}\")\n",
    "print(f\"\\nSample processed data:\")\n",
    "print(stock_prices_cleaned.head())\n"
   ]
  },
  {
   "cell_type": "markdown",
   "id": "842e1ac8",
   "metadata": {},
   "source": [
    "## 4. Merge Datasets (Tweets + Stock Prices)\n"
   ]
  },
  {
   "cell_type": "code",
   "execution_count": 10,
   "id": "cd3df13b",
   "metadata": {},
   "outputs": [
    {
     "name": "stdout",
     "output_type": "stream",
     "text": [
      "Merged dataset shape: (63497, 11)\n",
      "\n",
      "Sample merged data:\n",
      "                       Date  \\\n",
      "0 2022-09-29 23:41:16+00:00   \n",
      "1 2022-09-29 23:24:43+00:00   \n",
      "2 2022-09-29 23:18:08+00:00   \n",
      "3 2022-09-29 22:40:07+00:00   \n",
      "4 2022-09-29 22:27:05+00:00   \n",
      "\n",
      "                                       cleaned_tweet Stock Name Company Name  \\\n",
      "0  mainstream media has done an amazing job at br...       TSLA  Tesla, Inc.   \n",
      "1  tesla delivery estimates are at around 364k fr...       TSLA  Tesla, Inc.   \n",
      "2  3 even if i include 63.0m unvested rsus as of ...       TSLA  Tesla, Inc.   \n",
      "3  hahaha why are you still trying to stop tesla ...       TSLA  Tesla, Inc.   \n",
      "4  stop trying to kill kids you sad deranged old man       TSLA  Tesla, Inc.   \n",
      "\n",
      "        Open        High         Low       Close    Volume  daily_return  \\\n",
      "0  282.76001  283.649994  265.779999  268.209991  77620600     -0.068101   \n",
      "1  282.76001  283.649994  265.779999  268.209991  77620600     -0.068101   \n",
      "2  282.76001  283.649994  265.779999  268.209991  77620600     -0.068101   \n",
      "3  282.76001  283.649994  265.779999  268.209991  77620600     -0.068101   \n",
      "4  282.76001  283.649994  265.779999  268.209991  77620600     -0.068101   \n",
      "\n",
      "   price_range  \n",
      "0    17.869995  \n",
      "1    17.869995  \n",
      "2    17.869995  \n",
      "3    17.869995  \n",
      "4    17.869995  \n",
      "\n",
      "Date range: 2021-10-01 00:01:52+00:00 to 2022-09-29 23:41:16+00:00\n"
     ]
    }
   ],
   "source": [
    "# Merge stock tweets with stock prices based on date and stock name\n",
    "merged_data = pd.merge(\n",
    "    stock_tweets_cleaned,\n",
    "    stock_prices_cleaned,\n",
    "    left_on=['date_only', 'Stock Name'],\n",
    "    right_on=['date_only', 'Stock Name'],\n",
    "    how='inner'\n",
    ")\n",
    "\n",
    "# Select relevant columns\n",
    "merged_data = merged_data[[\n",
    "    'Date_x', 'cleaned_tweet', 'Stock Name', 'Company Name',\n",
    "    'Open', 'High', 'Low', 'Close', 'Volume', 'daily_return', 'price_range'\n",
    "]]\n",
    "\n",
    "# Rename Date_x to Date\n",
    "merged_data = merged_data.rename(columns={'Date_x': 'Date'})\n",
    "\n",
    "print(f\"Merged dataset shape: {merged_data.shape}\")\n",
    "print(f\"\\nSample merged data:\")\n",
    "print(merged_data.head())\n",
    "print(f\"\\nDate range: {merged_data['Date'].min()} to {merged_data['Date'].max()}\")\n"
   ]
  },
  {
   "cell_type": "markdown",
   "id": "d1fa133a",
   "metadata": {},
   "source": [
    "## 5. Save Processed Data\n"
   ]
  },
  {
   "cell_type": "code",
   "execution_count": 15,
   "id": "a91ff2c6",
   "metadata": {},
   "outputs": [],
   "source": [
    "# Save processed datasets to the processed folder\n",
    "sentiment_labeled_data_cleaned.to_csv('data/processed/labeled_sentiment_tweets.csv', index=False)\n",
    "stock_tweets_cleaned.to_csv('data/processed/cleaned_stock_tweets.csv', index=False)\n",
    "stock_prices_cleaned.to_csv('data/processed/stock_prices_features.csv', index=False)\n",
    "merged_data.to_csv('data/processed/tweets_with_stock_data.csv', index=False)"
   ]
  },
  {
   "cell_type": "markdown",
   "id": "f34391ef",
   "metadata": {},
   "source": [
    "## 6. Data Summary & Next Steps\n"
   ]
  },
  {
   "cell_type": "code",
   "execution_count": 13,
   "id": "6573a787",
   "metadata": {},
   "outputs": [
    {
     "name": "stdout",
     "output_type": "stream",
     "text": [
      "\n",
      " DATASET SUMMARY:\n",
      "\n",
      "1. Labeled Sentiment Tweets: 5,791 rows\n",
      "   - Purpose: Training sentiment model\n",
      "   - Sentiment distribution: {1: 3685, -1: 2106}\n",
      "\n",
      "2. Cleaned Stock Tweets: 80,792 rows\n",
      "   - Purpose: Applying sentiment model to real stock data\n",
      "   - Stocks: TSLA, MSFT, PG, META, AMZN, GOOG, AMD, AAPL, NFLX, TSM, KO, F, COST, DIS, VZ, CRM, INTC, BA, BX, NOC, PYPL, ENPH, NIO, ZS, XPEV\n",
      "\n",
      "3. Stock Prices with Features: 6,275 rows\n",
      "   - Purpose: Financial features for prediction\n",
      "   - Features: Open, High, Low, Close, Volume, daily_return, price_range\n",
      "\n",
      "4. Merged Tweets + Stock Data: 63,497 rows\n",
      "   - Purpose: Combined dataset for sentiment-based stock prediction\n",
      "   - Ready for model training!\n"
     ]
    }
   ],
   "source": [
    "# Summary of processed data\n",
    "print(\"\\n DATASET SUMMARY:\")\n",
    "print(f\"\\n1. Labeled Sentiment Tweets: {len(sentiment_labeled_data_cleaned):,} rows\")\n",
    "print(f\"   - Purpose: Training sentiment model\")\n",
    "print(f\"   - Sentiment distribution: {dict(sentiment_labeled_data_cleaned['Sentiment'].value_counts())}\")\n",
    "\n",
    "print(f\"\\n2. Cleaned Stock Tweets: {len(stock_tweets_cleaned):,} rows\")\n",
    "print(f\"   - Purpose: Applying sentiment model to real stock data\")\n",
    "print(f\"   - Stocks: {', '.join(stock_tweets_cleaned['Stock Name'].unique())}\")\n",
    "\n",
    "print(f\"\\n3. Stock Prices with Features: {len(stock_prices_cleaned):,} rows\")\n",
    "print(f\"   - Purpose: Financial features for prediction\")\n",
    "print(f\"   - Features: Open, High, Low, Close, Volume, daily_return, price_range\")\n",
    "\n",
    "print(f\"\\n4. Merged Tweets + Stock Data: {len(merged_data):,} rows\")\n",
    "print(f\"   - Purpose: Combined dataset for sentiment-based stock prediction\")\n",
    "print(f\"   - Ready for model training!\")\n",
    "\n"
   ]
  },
  {
   "cell_type": "code",
   "execution_count": null,
   "id": "4c546a2b",
   "metadata": {},
   "outputs": [],
   "source": []
  },
  {
   "cell_type": "code",
   "execution_count": null,
   "id": "854ac64e",
   "metadata": {},
   "outputs": [],
   "source": []
  }
 ],
 "metadata": {
  "kernelspec": {
   "display_name": "base",
   "language": "python",
   "name": "python3"
  },
  "language_info": {
   "codemirror_mode": {
    "name": "ipython",
    "version": 3
   },
   "file_extension": ".py",
   "mimetype": "text/x-python",
   "name": "python",
   "nbconvert_exporter": "python",
   "pygments_lexer": "ipython3",
   "version": "3.11.7"
  }
 },
 "nbformat": 4,
 "nbformat_minor": 5
}
