{
 "cells": [
  {
   "cell_type": "markdown",
   "id": "dc3869c8",
   "metadata": {},
   "source": [
    "Using the following pipeline for the mulit-class classifier model. \n",
    "\n",
    "1. Split the data into train, val and test set\n",
    "2. Load data into dataloaders\n",
    "3. "
   ]
  },
  {
   "cell_type": "markdown",
   "id": "9c3a773c",
   "metadata": {},
   "source": []
  }
 ],
 "metadata": {
  "kernelspec": {
   "display_name": "base",
   "language": "python",
   "name": "python3"
  },
  "language_info": {
   "codemirror_mode": {
    "name": "ipython",
    "version": 3
   },
   "file_extension": ".py",
   "mimetype": "text/x-python",
   "name": "python",
   "nbconvert_exporter": "python",
   "pygments_lexer": "ipython3",
   "version": "3.11.7"
  }
 },
 "nbformat": 4,
 "nbformat_minor": 5
}
