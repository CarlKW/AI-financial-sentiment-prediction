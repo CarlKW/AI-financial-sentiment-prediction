{
 "cells": [
  {
   "cell_type": "markdown",
   "id": "dc3869c8",
   "metadata": {},
   "source": [
    "Using the following pipeline for the multi-class classifier model. \n",
    "\n",
    "1. Split the data into train, val and test set\n",
    "2. Load data into dataloaders\n",
    "3. define the model\n",
    "4. train the model\n",
    "5. Evaluate and visualize training\n",
    "5. fine tune the model\n"
   ]
  },
  {
   "cell_type": "markdown",
   "id": "974587cb",
   "metadata": {},
   "source": [
    "Loading the data into train, val and test. (80, 10, 10) "
   ]
  },
  {
   "cell_type": "code",
   "execution_count": 1,
   "id": "871a8fd2",
   "metadata": {},
   "outputs": [
    {
     "name": "stdout",
     "output_type": "stream",
     "text": [
      "Total samples: 36031\n",
      "\n",
      "Dataset shape: (36031, 11)\n",
      "\n",
      "First few rows:\n"
     ]
    },
    {
     "data": {
      "text/html": [
       "<div>\n",
       "<style scoped>\n",
       "    .dataframe tbody tr th:only-of-type {\n",
       "        vertical-align: middle;\n",
       "    }\n",
       "\n",
       "    .dataframe tbody tr th {\n",
       "        vertical-align: top;\n",
       "    }\n",
       "\n",
       "    .dataframe thead th {\n",
       "        text-align: right;\n",
       "    }\n",
       "</style>\n",
       "<table border=\"1\" class=\"dataframe\">\n",
       "  <thead>\n",
       "    <tr style=\"text-align: right;\">\n",
       "      <th></th>\n",
       "      <th>Date</th>\n",
       "      <th>cleaned_tweet</th>\n",
       "      <th>Stock Name</th>\n",
       "      <th>Company Name</th>\n",
       "      <th>Open</th>\n",
       "      <th>High</th>\n",
       "      <th>Low</th>\n",
       "      <th>Close</th>\n",
       "      <th>Volume</th>\n",
       "      <th>daily_return</th>\n",
       "      <th>price_range</th>\n",
       "    </tr>\n",
       "  </thead>\n",
       "  <tbody>\n",
       "    <tr>\n",
       "      <th>0</th>\n",
       "      <td>2021-10-18 17:07:43+00:00</td>\n",
       "      <td>ok my 2 cents im 100% sure tweeted about $aaa ...</td>\n",
       "      <td>TSLA</td>\n",
       "      <td>Tesla, Inc.</td>\n",
       "      <td>283.929993</td>\n",
       "      <td>291.753326</td>\n",
       "      <td>283.823334</td>\n",
       "      <td>290.036682</td>\n",
       "      <td>72621600</td>\n",
       "      <td>0.032122</td>\n",
       "      <td>7.929993</td>\n",
       "    </tr>\n",
       "    <tr>\n",
       "      <th>1</th>\n",
       "      <td>2022-04-12 22:55:34+00:00</td>\n",
       "      <td>this is how tesla is clobbering everybody else...</td>\n",
       "      <td>TSLA</td>\n",
       "      <td>Tesla, Inc.</td>\n",
       "      <td>332.546661</td>\n",
       "      <td>340.396667</td>\n",
       "      <td>325.533325</td>\n",
       "      <td>328.983337</td>\n",
       "      <td>65976000</td>\n",
       "      <td>0.011292</td>\n",
       "      <td>14.863342</td>\n",
       "    </tr>\n",
       "    <tr>\n",
       "      <th>2</th>\n",
       "      <td>2022-03-04 15:00:28+00:00</td>\n",
       "      <td>at some point investors will put two and two t...</td>\n",
       "      <td>TSLA</td>\n",
       "      <td>Tesla, Inc.</td>\n",
       "      <td>283.033325</td>\n",
       "      <td>285.216675</td>\n",
       "      <td>275.053345</td>\n",
       "      <td>279.429993</td>\n",
       "      <td>66999600</td>\n",
       "      <td>-0.001192</td>\n",
       "      <td>10.163330</td>\n",
       "    </tr>\n",
       "    <tr>\n",
       "      <th>3</th>\n",
       "      <td>2022-09-12 16:28:23+00:00</td>\n",
       "      <td>this is why less people start buying tesla shi...</td>\n",
       "      <td>TSLA</td>\n",
       "      <td>Tesla, Inc.</td>\n",
       "      <td>300.720001</td>\n",
       "      <td>305.489990</td>\n",
       "      <td>300.399994</td>\n",
       "      <td>304.420013</td>\n",
       "      <td>48674600</td>\n",
       "      <td>0.015817</td>\n",
       "      <td>5.089996</td>\n",
       "    </tr>\n",
       "    <tr>\n",
       "      <th>4</th>\n",
       "      <td>2022-04-08 16:52:54+00:00</td>\n",
       "      <td>tesla $tsla block $sq and blockstream team up ...</td>\n",
       "      <td>TSLA</td>\n",
       "      <td>Tesla, Inc.</td>\n",
       "      <td>347.736664</td>\n",
       "      <td>349.480011</td>\n",
       "      <td>340.813324</td>\n",
       "      <td>341.829987</td>\n",
       "      <td>55013700</td>\n",
       "      <td>-0.030049</td>\n",
       "      <td>8.666687</td>\n",
       "    </tr>\n",
       "  </tbody>\n",
       "</table>\n",
       "</div>"
      ],
      "text/plain": [
       "                        Date  \\\n",
       "0  2021-10-18 17:07:43+00:00   \n",
       "1  2022-04-12 22:55:34+00:00   \n",
       "2  2022-03-04 15:00:28+00:00   \n",
       "3  2022-09-12 16:28:23+00:00   \n",
       "4  2022-04-08 16:52:54+00:00   \n",
       "\n",
       "                                       cleaned_tweet Stock Name Company Name  \\\n",
       "0  ok my 2 cents im 100% sure tweeted about $aaa ...       TSLA  Tesla, Inc.   \n",
       "1  this is how tesla is clobbering everybody else...       TSLA  Tesla, Inc.   \n",
       "2  at some point investors will put two and two t...       TSLA  Tesla, Inc.   \n",
       "3  this is why less people start buying tesla shi...       TSLA  Tesla, Inc.   \n",
       "4  tesla $tsla block $sq and blockstream team up ...       TSLA  Tesla, Inc.   \n",
       "\n",
       "         Open        High         Low       Close    Volume  daily_return  \\\n",
       "0  283.929993  291.753326  283.823334  290.036682  72621600      0.032122   \n",
       "1  332.546661  340.396667  325.533325  328.983337  65976000      0.011292   \n",
       "2  283.033325  285.216675  275.053345  279.429993  66999600     -0.001192   \n",
       "3  300.720001  305.489990  300.399994  304.420013  48674600      0.015817   \n",
       "4  347.736664  349.480011  340.813324  341.829987  55013700     -0.030049   \n",
       "\n",
       "   price_range  \n",
       "0     7.929993  \n",
       "1    14.863342  \n",
       "2    10.163330  \n",
       "3     5.089996  \n",
       "4     8.666687  "
      ]
     },
     "execution_count": 1,
     "metadata": {},
     "output_type": "execute_result"
    }
   ],
   "source": [
    "import pandas as pd\n",
    "from sklearn.model_selection import train_test_split\n",
    "import re\n",
    "\n",
    "# Load the balanced dataset\n",
    "df = pd.read_csv('data/processed/balanced_tweets_stock_data.csv')\n",
    "\n",
    "print(f\"Total samples: {len(df)}\")\n",
    "print(f\"\\nDataset shape: {df.shape}\")\n",
    "print(f\"\\nFirst few rows:\")\n",
    "df.head()\n"
   ]
  },
  {
   "cell_type": "code",
   "execution_count": 2,
   "id": "ab7cf10b",
   "metadata": {},
   "outputs": [
    {
     "name": "stdout",
     "output_type": "stream",
     "text": [
      "Training set: 28824 samples (80.0%)\n",
      "Validation set: 3603 samples (10.0%)\n",
      "Test set: 3604 samples (10.0%)\n"
     ]
    }
   ],
   "source": [
    "# Split into train (80%), temp (20%)\n",
    "train_df, temp_df = train_test_split(df, test_size=0.2, random_state=42, shuffle=True)\n",
    "\n",
    "# Split temp into validation (10%) and test (10%)\n",
    "val_df, test_df = train_test_split(temp_df, test_size=0.5, random_state=42, shuffle=True)\n",
    "\n",
    "# Print the sizes\n",
    "print(f\"Training set: {len(train_df)} samples ({len(train_df)/len(df)*100:.1f}%)\")\n",
    "print(f\"Validation set: {len(val_df)} samples ({len(val_df)/len(df)*100:.1f}%)\")\n",
    "print(f\"Test set: {len(test_df)} samples ({len(test_df)/len(df)*100:.1f}%)\")\n",
    "\n",
    "\n"
   ]
  },
  {
   "cell_type": "markdown",
   "id": "a7de553e",
   "metadata": {},
   "source": [
    "Creating DataLoaders of the dataset"
   ]
  },
  {
   "cell_type": "code",
   "execution_count": 3,
   "id": "f0cb53bc",
   "metadata": {},
   "outputs": [],
   "source": [
    "from torch.utils.data import DataLoader\n",
    "batch_size = 32\n",
    "\n",
    "train_loader = DataLoader(train_df, batch_size=batch_size, shuffle=True)\n",
    "val_loader = DataLoader(val_df, batch_size=batch_size, shuffle=False)\n",
    "test_loader = DataLoader(test_df, batch_size=batch_size, shuffle=False)\n"
   ]
  },
  {
   "cell_type": "markdown",
   "id": "eeb41ee8",
   "metadata": {},
   "source": [
    "Model deifnitions: Classifying stocks based on sentiment. \n",
    "\n",
    "Using a mix of tickers and multi-class text classification with suitable pre-trained model.\n"
   ]
  },
  {
   "cell_type": "code",
   "execution_count": 4,
   "id": "f4ab6dd7",
   "metadata": {},
   "outputs": [],
   "source": [
    "def label_from_ticker(text, ticker_map):\n",
    "    tickers = re.findall(r'\\$[A-Z]{1,5}', text.upper())\n",
    "    if len(tickers) == 1:\n",
    "        return ticker_map.get(tickers[0][1:], None)\n",
    "    elif len(tickers) > 1:\n",
    "        return \"MULTI\"\n",
    "    else:\n",
    "        return None\n"
   ]
  },
  {
   "cell_type": "code",
   "execution_count": null,
   "id": "f0cdcb21",
   "metadata": {},
   "outputs": [],
   "source": []
  },
  {
   "cell_type": "code",
   "execution_count": null,
   "id": "3023d0cc",
   "metadata": {},
   "outputs": [],
   "source": []
  }
 ],
 "metadata": {
  "kernelspec": {
   "display_name": "dml",
   "language": "python",
   "name": "python3"
  },
  "language_info": {
   "codemirror_mode": {
    "name": "ipython",
    "version": 3
   },
   "file_extension": ".py",
   "mimetype": "text/x-python",
   "name": "python",
   "nbconvert_exporter": "python",
   "pygments_lexer": "ipython3",
   "version": "3.11.13"
  }
 },
 "nbformat": 4,
 "nbformat_minor": 5
}
