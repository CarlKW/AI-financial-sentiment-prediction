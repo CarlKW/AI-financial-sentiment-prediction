{
 "cells": [
  {
   "cell_type": "code",
   "execution_count": 1,
   "id": "3e7416cb",
   "metadata": {},
   "outputs": [
    {
     "name": "stderr",
     "output_type": "stream",
     "text": [
      "d:\\CODE\\Deep_ml_project\\AI-financial-sentiment-prediction\\venv\\Lib\\site-packages\\transformers\\utils\\hub.py:110: FutureWarning: Using `TRANSFORMERS_CACHE` is deprecated and will be removed in v5 of Transformers. Use `HF_HOME` instead.\n",
      "  warnings.warn(\n"
     ]
    }
   ],
   "source": [
    "import re\n",
    "import pandas as pd\n",
    "from torch.utils.data import Dataset\n",
    "from transformers import AutoTokenizer\n",
    "from sklearn.model_selection import train_test_split\n",
    "\n",
    "from pathlib import Path\n",
    "import torch\n",
    "\n"
   ]
  },
  {
   "cell_type": "code",
   "execution_count": 2,
   "id": "9f1be1b4",
   "metadata": {},
   "outputs": [],
   "source": [
    "\n",
    "\n",
    "def clean_text(text):\n",
    "    text = str(text)\n",
    "    text = re.sub(r\"http\\S+\", \"\", text)      \n",
    "    text = re.sub(r\"@\\w+\", \"\", text)        \n",
    "    text = re.sub(r\"^user:\\s*\", \"\", text, flags=re.IGNORECASE)  \n",
    "    text = re.sub(r\"^user\\s*\", \"\", text, flags=re.IGNORECASE)  \n",
    "    text = re.sub(r\"[\\\"]+\", \"\", text)        \n",
    "    text = re.sub(r\"\\s+\", \" \", text).strip() \n",
    "    return text\n",
    "\n"
   ]
  },
  {
   "cell_type": "code",
   "execution_count": 3,
   "id": "26086bd2",
   "metadata": {},
   "outputs": [],
   "source": [
    "def lables_zero_one(y: int) -> int:\n",
    "    # input in {-1, 1} -> output in {0, 1}\n",
    "    return 1 if int(y) == 1 else 0"
   ]
  },
  {
   "cell_type": "code",
   "execution_count": 4,
   "id": "98929a1e",
   "metadata": {},
   "outputs": [
    {
     "name": "stdout",
     "output_type": "stream",
     "text": [
      "<bound method NDFrame.head of                                                    Text  Sentiment\n",
      "0     Kickers on my watchlist XIDE TIT SOQ PNK CPW B...          1\n",
      "1     AAP MOVIE. 55% return for the FEA/GEED indicat...          1\n",
      "2     I'd be afraid to short AMZN - they are looking...          1\n",
      "3                                       MNTA Over 12.00          1\n",
      "4                                         OI Over 21.37          1\n",
      "...                                                 ...        ...\n",
      "5786  Industry body CII said #discoms are likely to ...         -1\n",
      "5787  #Gold prices slip below Rs 46,000 as #investor...         -1\n",
      "5788  Workers at Bajaj Auto have agreed to a 10% wag...          1\n",
      "5789  #Sharemarket LIVE: Sensex off day’s high, up 6...          1\n",
      "5790  #Sensex, #Nifty climb off day's highs, still u...          1\n",
      "\n",
      "[5791 rows x 2 columns]>\n"
     ]
    }
   ],
   "source": [
    "df = pd.read_csv(\"data/stock_data.csv\")\n",
    "df[\"Text\"] = df[\"Text\"].astype(str).apply(clean_text)\n",
    "print(df.head)"
   ]
  },
  {
   "cell_type": "code",
   "execution_count": 5,
   "id": "8353e70d",
   "metadata": {},
   "outputs": [],
   "source": [
    "class FinancialSentimentDataset(Dataset):\n",
    "    def __init__(self, texts, labels, tokenizer, max_len: int = 128):\n",
    "        # csvPath = Path(csvPath)\n",
    "        # if not csvPath.exists():\n",
    "        #     raise ValueError(f\"CSV not found: {csvPath}\")\n",
    "\n",
    "        # df = pd.read_csv(csvPath)\n",
    "        # expect columns: Text, Sentiment\n",
    "        # self.texts = [clean_text(t) for t in df[\"Text\"].astype(str).tolist()]\n",
    "        # self.labels = [lables_zero_one(y) for y in df[\"Sentiment\"].tolist()]\n",
    "        self.texts = texts\n",
    "        self.labels = labels\n",
    "        self.tokenizer = tokenizer\n",
    "        self.max_len = max_len\n",
    "    def __len__(self):\n",
    "        return len(self.texts)\n",
    "\n",
    "    def __getitem__(self, idx):\n",
    "        text = str(self.texts[idx])\n",
    "        label = self.labels[idx]\n",
    "\n",
    "        encoding = self.tokenizer(\n",
    "            text,\n",
    "            truncation=True, # cut off long texts\n",
    "            padding='max_length', # pad shorter text with zeroes so all have same len\n",
    "            max_length=self.max_len,\n",
    "            return_tensors='pt' #pytorch output\n",
    "        )\n",
    "\n",
    "        return {\n",
    "            'input_ids': encoding['input_ids'].squeeze(),\n",
    "            'attention_mask': encoding['attention_mask'].squeeze(),\n",
    "            \"label\": torch.tensor(label, dtype=torch.long)\n",
    "        }"
   ]
  },
  {
   "cell_type": "code",
   "execution_count": 6,
   "id": "57315c8e",
   "metadata": {},
   "outputs": [],
   "source": [
    "from transformers import AutoTokenizer\n",
    "\n",
    "tokenizer = AutoTokenizer.from_pretrained(\"ProsusAI/finbert\")\n",
    "\n",
    "train_dataset = FinancialSentimentDataset(\n",
    "    texts=df[\"Text\"].values,\n",
    "    labels=df[\"Sentiment\"].values,\n",
    "    tokenizer=tokenizer\n",
    ")\n"
   ]
  },
  {
   "cell_type": "code",
   "execution_count": 7,
   "id": "45be9b71",
   "metadata": {},
   "outputs": [],
   "source": [
    "from sklearn.model_selection import train_test_split\n",
    "\n",
    "# Convert labels from {-1, 1} to {0, 1} for binary classification\n",
    "labels_binary = df[\"Sentiment\"].apply(lables_zero_one).values\n",
    "\n",
    "train_texts, val_texts, train_labels, val_labels = train_test_split(\n",
    "    df[\"Text\"].values, labels_binary, test_size=0.2, random_state=67)"
   ]
  },
  {
   "cell_type": "code",
   "execution_count": 8,
   "id": "101fd50c",
   "metadata": {},
   "outputs": [],
   "source": [
    "train_dataset = FinancialSentimentDataset(train_texts, train_labels, tokenizer)\n",
    "val_dataset = FinancialSentimentDataset(val_texts, val_labels, tokenizer)\n"
   ]
  },
  {
   "cell_type": "code",
   "execution_count": 9,
   "id": "5f3187c7",
   "metadata": {},
   "outputs": [],
   "source": [
    "import torch\n",
    "import torch.nn as nn\n",
    "from transformers import AutoModel\n",
    "\n",
    "class FinbertBackbone(nn.Module):\n",
    "    def __init__(self, modelName: str = \"ProsusAI/finbert\"):\n",
    "        super().__init__()\n",
    "        self.encoder = AutoModel.from_pretrained(modelName)\n",
    "        self.hiddenSize = self.encoder.config.hidden_size  # 768 for BERT-base\n",
    "\n",
    "    def forward(self, input_ids, attention_mask):\n",
    "        out = self.encoder(input_ids=input_ids, attention_mask=attention_mask, return_dict=True)\n",
    "        cls = out.last_hidden_state[:, 0]  # [CLS] token\n",
    "        return cls  # [batch, hidden]\n",
    "    \n",
    "\n",
    "class BinaryHead(nn.Module):\n",
    "    def __init__(self, inFeatures: int, pDrop: float = 0.1):\n",
    "        super().__init__()\n",
    "        self.dropout = nn.Dropout(pDrop)\n",
    "        self.fc = nn.Linear(inFeatures, 1)  # single logit\n",
    "\n",
    "    def forward(self, x):\n",
    "        x = self.dropout(x)\n",
    "        logits = self.fc(x).squeeze(-1)    # [batch]\n",
    "        return logits\n",
    "\n",
    "\n",
    "class FinbertBinaryClf(nn.Module):\n",
    "    def __init__(self, modelName: str = \"ProsusAI/finbert\", pDrop: float = 0.1):\n",
    "        super().__init__()\n",
    "        self.backbone = FinbertBackbone(modelName)\n",
    "        self.head = BinaryHead(self.backbone.hiddenSize, pDrop)\n",
    "\n",
    "    def forward(self, input_ids, attention_mask):\n",
    "        feats = self.backbone(input_ids, attention_mask)\n",
    "        logits = self.head(feats)\n",
    "        return logits\n"
   ]
  },
  {
   "cell_type": "code",
   "execution_count": 10,
   "id": "1476804a",
   "metadata": {},
   "outputs": [],
   "source": [
    "from torch.utils.data import DataLoader, random_split\n",
    "from torch.optim import AdamW\n",
    "import torch.nn.functional as F\n",
    "import torch\n",
    "from transformers import AutoTokenizer\n",
    "from sklearn.metrics import f1_score, accuracy_score\n",
    "\n",
    "def getLoaders(texts,labels, tokenizer, maxLen=128, batchSize=64, valFrac=0.2, seed=42):\n",
    "    ds = FinancialSentimentDataset(texts,labels, tokenizer, max_len=maxLen)\n",
    "    valLen = int(len(ds) * valFrac)\n",
    "    trainLen = len(ds) - valLen\n",
    "    gen = torch.Generator().manual_seed(seed)\n",
    "    trainDs, valDs = random_split(ds, [trainLen, valLen], generator=gen)\n",
    "    return (\n",
    "        DataLoader(trainDs, batch_size=batchSize, shuffle=True),\n",
    "        DataLoader(valDs, batch_size=batchSize, shuffle=False),\n",
    "    )\n",
    "\n",
    "def step(model, batch, device, posWeight=None, train=True, optimizer=None, clip=1.0):\n",
    "    input_ids = batch[\"input_ids\"].to(device)\n",
    "    attention_mask = batch[\"attention_mask\"].to(device)\n",
    "    labels = batch[\"label\"].float().to(device)    # 0/1 as float for BCE\n",
    "\n",
    "    logits = model(input_ids, attention_mask)\n",
    "    if posWeight is None:\n",
    "        loss = F.binary_cross_entropy_with_logits(logits, labels)\n",
    "    else:\n",
    "        bce = nn.BCEWithLogitsLoss(pos_weight=posWeight)\n",
    "        loss = bce(logits, labels)\n",
    "\n",
    "    if train:\n",
    "        optimizer.zero_grad()\n",
    "        loss.backward()\n",
    "        torch.nn.utils.clip_grad_norm_(model.parameters(), clip)\n",
    "        optimizer.step()\n",
    "\n",
    "    probs = torch.sigmoid(logits).detach().cpu().numpy()\n",
    "    preds = (probs >= 0.5).astype(int)\n",
    "    y_true = labels.detach().cpu().numpy().astype(int)\n",
    "    return loss.item(), preds, y_true\n",
    "\n",
    "def runEpoch(model, loader, device, train, optimizer=None, posWeight=None):\n",
    "    model.train(train)\n",
    "    losses, allPreds, allTrue = [], [], []\n",
    "    for batch in loader:\n",
    "        loss, preds, y_true = step(model, batch, device, posWeight, train, optimizer)\n",
    "        losses.append(loss)\n",
    "        allPreds.extend(preds.tolist())\n",
    "        allTrue.extend(y_true.tolist())\n",
    "    acc = accuracy_score(allTrue, allPreds)\n",
    "    f1 = f1_score(allTrue, allPreds)\n",
    "    return float(sum(losses)/max(1,len(losses))), acc, f1\n"
   ]
  },
  {
   "cell_type": "code",
   "execution_count": 11,
   "id": "11633bf2",
   "metadata": {},
   "outputs": [
    {
     "name": "stdout",
     "output_type": "stream",
     "text": [
      "cuda\n"
     ]
    }
   ],
   "source": [
    "from transformers import AutoTokenizer\n",
    "\n",
    "csvPath = \"data/stock_data.csv\"  # Text,Sentiment\n",
    "modelName = \"ProsusAI/finbert\"\n",
    "tokenizer = AutoTokenizer.from_pretrained(modelName)\n",
    "\n",
    "trainLoader, valLoader = getLoaders(train_texts,train_labels, tokenizer, maxLen=128, batchSize=64)\n",
    "\n",
    "device = torch.device(\"cuda\" if torch.cuda.is_available() else \"cpu\")\n",
    "print(device)\n",
    "model = FinbertBinaryClf(modelName, pDrop=0.1).to(device)"
   ]
  },
  {
   "cell_type": "code",
   "execution_count": 12,
   "id": "484658a6",
   "metadata": {},
   "outputs": [
    {
     "name": "stdout",
     "output_type": "stream",
     "text": [
      "[warmup] 0: train loss 0.6190 acc 0.659 f1 0.756 | val 0.5692 0.711 0.806\n",
      "\n",
      "warmup complete\n",
      "\n",
      "\n",
      "main training started\n",
      "\n",
      "epoch 0: train loss 0.4980 acc 0.761 f1 0.825 | val 0.4746 0.793 0.848\n",
      "epoch 1: train loss 0.3309 acc 0.857 f1 0.890 | val 0.5059 0.789 0.845\n",
      "epoch 2: train loss 0.2088 acc 0.923 f1 0.940 | val 0.6098 0.792 0.849\n",
      "\n",
      "model saved as finbert_custom_head\n",
      "\n"
     ]
    }
   ],
   "source": [
    "\n",
    "\n",
    "# optional: freeze encoder for warmup\n",
    "for p in model.backbone.parameters():\n",
    "    p.requires_grad = False\n",
    "\n",
    "optimizer = AdamW(filter(lambda p: p.requires_grad, model.parameters()), lr=2e-4, weight_decay=0.01)\n",
    "\n",
    "# warmup head\n",
    "for epoch in range(1):\n",
    "    trLoss, trAcc, trF1 = runEpoch(model, trainLoader, device, train=True, optimizer=optimizer)\n",
    "    vaLoss, vaAcc, vaF1 = runEpoch(model, valLoader, device, train=False)\n",
    "    print(f\"[warmup] {epoch}: train loss {trLoss:.4f} acc {trAcc:.3f} f1 {trF1:.3f} | val {vaLoss:.4f} {vaAcc:.3f} {vaF1:.3f}\")\n",
    "print(\"\\nwarmup complete\\n\")\n",
    "# unfreeze some/all encoder layers\n",
    "for p in model.backbone.parameters():\n",
    "    p.requires_grad = True\n",
    "optimizer = AdamW(model.parameters(), lr=2e-5, weight_decay=0.01)\n",
    "print(\"\\nmain training started\\n\")\n",
    "# main training\n",
    "for epoch in range(3):\n",
    "    trLoss, trAcc, trF1 = runEpoch(model, trainLoader, device, train=True, optimizer=optimizer)\n",
    "    vaLoss, vaAcc, vaF1 = runEpoch(model, valLoader, device, train=False)\n",
    "    print(f\"epoch {epoch}: train loss {trLoss:.4f} acc {trAcc:.3f} f1 {trF1:.3f} | val {vaLoss:.4f} {vaAcc:.3f} {vaF1:.3f}\")\n",
    "print(\"\\nmodel saved as finbert_custom_head\\n\")\n",
    "torch.save(model.state_dict(), \"finbert_custom_head.pt\")\n"
   ]
  },
  {
   "cell_type": "code",
   "execution_count": 13,
   "id": "17280fc6",
   "metadata": {},
   "outputs": [],
   "source": [
    "@torch.no_grad()\n",
    "def predictTexts(texts, tokenizer, model, maxLen=128, threshold=0.5, device=None):\n",
    "    device = device or next(model.parameters()).device\n",
    "    model.eval()\n",
    "    if isinstance(texts, str):\n",
    "        texts = [texts]\n",
    "    enc = tokenizer(\n",
    "        texts, truncation=True, padding=\"max_length\", max_length=maxLen, return_tensors=\"pt\"\n",
    "    )\n",
    "    logits = model(enc[\"input_ids\"].to(device), enc[\"attention_mask\"].to(device))\n",
    "    probs = torch.sigmoid(logits).cpu().numpy()\n",
    "    labels = (probs >= threshold).astype(int)  # 1=positive, 0=negative\n",
    "    return labels, probs\n"
   ]
  }
 ],
 "metadata": {
  "kernelspec": {
   "display_name": "venv",
   "language": "python",
   "name": "python3"
  },
  "language_info": {
   "codemirror_mode": {
    "name": "ipython",
    "version": 3
   },
   "file_extension": ".py",
   "mimetype": "text/x-python",
   "name": "python",
   "nbconvert_exporter": "python",
   "pygments_lexer": "ipython3",
   "version": "3.13.3"
  }
 },
 "nbformat": 4,
 "nbformat_minor": 5
}
