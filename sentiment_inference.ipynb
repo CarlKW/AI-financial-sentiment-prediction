{
  "cells": [
    {
      "cell_type": "code",
      "execution_count": 1,
      "metadata": {},
      "outputs": [
        {
          "name": "stderr",
          "output_type": "stream",
          "text": [
            "d:\\CODE\\Deep_ml_project\\AI-financial-sentiment-prediction\\venv\\Lib\\site-packages\\transformers\\utils\\hub.py:110: FutureWarning: Using `TRANSFORMERS_CACHE` is deprecated and will be removed in v5 of Transformers. Use `HF_HOME` instead.\n",
            "  warnings.warn(\n"
          ]
        }
      ],
      "source": [
        "import torch\n",
        "import torch.nn as nn\n",
        "from transformers import AutoModel, AutoTokenizer\n",
        "\n",
        "# Recreate model architecture exactly as in training notebook\n",
        "class FinbertBackbone(nn.Module):\n",
        "    def __init__(self, modelName: str = \"ProsusAI/finbert\"):\n",
        "        super().__init__()\n",
        "        self.encoder = AutoModel.from_pretrained(modelName)\n",
        "        self.hiddenSize = self.encoder.config.hidden_size  # 768 for BERT-base\n",
        "\n",
        "    def forward(self, input_ids, attention_mask):\n",
        "        out = self.encoder(input_ids=input_ids, attention_mask=attention_mask, return_dict=True)\n",
        "        cls = out.last_hidden_state[:, 0]  # [CLS] token\n",
        "        return cls  # [batch, hidden]\n",
        "\n",
        "class BinaryHead(nn.Module):\n",
        "    def __init__(self, inFeatures: int, pDrop: float = 0.1):\n",
        "        super().__init__()\n",
        "        self.dropout = nn.Dropout(pDrop)\n",
        "        self.fc = nn.Linear(inFeatures, 1)  # single logit\n",
        "\n",
        "    def forward(self, x):\n",
        "        x = self.dropout(x)\n",
        "        logits = self.fc(x).squeeze(-1)    # [batch]\n",
        "        return logits\n",
        "\n",
        "class FinbertBinaryClf(nn.Module):\n",
        "    def __init__(self, modelName: str = \"ProsusAI/finbert\", pDrop: float = 0.1):\n",
        "        super().__init__()\n",
        "        self.backbone = FinbertBackbone(modelName)\n",
        "        self.head = BinaryHead(self.backbone.hiddenSize, pDrop)\n",
        "\n",
        "    def forward(self, input_ids, attention_mask):\n",
        "        feats = self.backbone(input_ids, attention_mask)\n",
        "        logits = self.head(feats)\n",
        "        return logits\n"
      ]
    },
    {
      "cell_type": "code",
      "execution_count": null,
      "metadata": {},
      "outputs": [
        {
          "name": "stdout",
          "output_type": "stream",
          "text": [
            "Device: cuda\n",
            "Model loaded from epoch: 18\n",
            "Validation F1: 0.736\n",
            "Validation Loss: 0.5569\n"
          ]
        }
      ],
      "source": [
        "# Load tokenizer and model weights\n",
        "model_name = \"ProsusAI/finbert\"\n",
        "\n",
        "# Choose which model to use:\n",
        "# Option 1: Finetuned model (higher F1, trained with 2-phase approach)\n",
        "weights_path = \"finbert_finetuned.pt\"  \n",
        "\n",
        "# Option 2: Frozen head only (if finbert_finetuned.pt doesn't exist yet)\n",
        "# weights_path = \"finbert_custom_head.pt\"\n",
        "\n",
        "device = torch.device(\"cuda\" if torch.cuda.is_available() else \"cpu\")\n",
        "\n",
        "tokenizer = AutoTokenizer.from_pretrained(model_name)\n",
        "\n",
        "# IMPORTANT: Dropout must match training\n",
        "# For finbert_finetuned.pt: use pDrop=0.1 (original config)\n",
        "# For finbert_custom_head.pt (if using old frozen model): use pDrop=0.3\n",
        "model = FinbertBinaryClf(modelName=model_name, pDrop=0.1).to(device)\n",
        "\n",
        "# Load checkpoint (saved as dictionary with 'model_state_dict' key)\n",
        "checkpoint = torch.load(weights_path, map_location=device)\n",
        "model.load_state_dict(checkpoint['model_state_dict'])\n",
        "model.eval()\n",
        "\n",
        "print(f\"Device: {device}\")\n",
        "print(f\"Model loaded: {weights_path}\")\n",
        "print(f\"  Total epoch: {checkpoint['epoch']+1}\")\n",
        "print(f\"  Validation F1: {checkpoint['val_f1']:.3f}\")\n",
        "print(f\"  Validation Loss: {checkpoint['val_loss']:.4f}\")\n"
      ]
    },
    {
      "cell_type": "code",
      "execution_count": 3,
      "metadata": {},
      "outputs": [],
      "source": [
        "import re\n",
        "\n",
        "def clean_text(text):\n",
        "    \"\"\"Clean tweet text (same as training preprocessing)\"\"\"\n",
        "    text = str(text)\n",
        "    text = re.sub(r\"http\\S+\", \"\", text)\n",
        "    text = re.sub(r\"@\\w+\", \"\", text)\n",
        "    text = re.sub(r\"^user:\\s*\", \"\", text, flags=re.IGNORECASE)\n",
        "    text = re.sub(r\"^user\\s*\", \"\", text, flags=re.IGNORECASE)\n",
        "    text = re.sub(r\"[\\\"]+\", \"\", text)\n",
        "    text = re.sub(r\"\\s+\", \" \", text).strip()\n",
        "    return text\n",
        "\n",
        "@torch.no_grad()\n",
        "def predict_texts(texts, tokenizer, model, max_len=128, threshold=0.5, device=None):\n",
        "    \"\"\"Predict sentiment for input texts\n",
        "    \n",
        "    Returns:\n",
        "        labels: 1=positive, 0=negative\n",
        "        probs: probability of positive class\n",
        "    \"\"\"\n",
        "    device = device or next(model.parameters()).device\n",
        "    model.eval()\n",
        "    \n",
        "    if isinstance(texts, str):\n",
        "        texts = [texts]\n",
        "    \n",
        "    # Clean texts (important!)\n",
        "    texts = [clean_text(t) for t in texts]\n",
        "    \n",
        "    enc = tokenizer(\n",
        "        texts, truncation=True, padding=\"max_length\", max_length=max_len, return_tensors=\"pt\"\n",
        "    )\n",
        "    logits = model(enc[\"input_ids\"].to(device), enc[\"attention_mask\"].to(device))\n",
        "    probs = torch.sigmoid(logits).cpu().numpy()\n",
        "    labels = (probs >= threshold).astype(int)  # 1=positive, 0=negative\n",
        "    return labels, probs\n"
      ]
    },
    {
      "cell_type": "code",
      "execution_count": 4,
      "metadata": {},
      "outputs": [
        {
          "name": "stdout",
          "output_type": "stream",
          "text": [
            "Input: Great earnings beat and strong guidance!\n",
            "Prediction: positive - 1\n",
            "Positive probability: 0.9461\n"
          ]
        }
      ],
      "source": [
        "# Enter your text/tweet here\n",
        "text = \"Great earnings beat and strong guidance!\"\n",
        "\n",
        "labels, probs = predict_texts(text, tokenizer, model, max_len=128, threshold=0.5, device=device)\n",
        "label = int(labels[0])\n",
        "prob = float(probs[0])\n",
        "\n",
        "sentiment_str = \"positive - 1\" if label == 1 else \"negative - 0\"\n",
        "print(f\"Input: {text}\")\n",
        "print(f\"Prediction: {sentiment_str}\")\n",
        "print(f\"Positive probability: {prob:.4f}\")\n"
      ]
    },
    {
      "cell_type": "code",
      "execution_count": 5,
      "metadata": {},
      "outputs": [
        {
          "name": "stdout",
          "output_type": "stream",
          "text": [
            "input: i will go to the stock market and buy me some tesla stock\n",
            "Prediction: positive - 1\n",
            "Positive probability: 0.6244\n",
            "input: elon musk is my hero\n",
            "Prediction: positive - 1\n",
            "Positive probability: 0.6803\n",
            "input: i love tesla\n",
            "Prediction: positive - 1\n",
            "Positive probability: 0.7191\n",
            "input: tesla is great\n",
            "Prediction: positive - 1\n",
            "Positive probability: 0.7690\n",
            "input: tesla is bad\n",
            "Prediction: positive - 1\n",
            "Positive probability: 0.5591\n",
            "input: i hate tesla\n",
            "Prediction: negative - 0\n",
            "Positive probability: 0.0995\n",
            "input: god i hate this\n",
            "Prediction: negative - 0\n",
            "Positive probability: 0.1332\n",
            "input: tesla is bad\n",
            "Prediction: positive - 1\n",
            "Positive probability: 0.5591\n",
            "input: tesla is the worst company ever\n",
            "Prediction: negative - 0\n",
            "Positive probability: 0.0328\n",
            "input: its so bad i want to fly\n",
            "Prediction: negative - 0\n",
            "Positive probability: 0.2086\n",
            "input: microsoft is bad\n",
            "Prediction: negative - 0\n",
            "Positive probability: 0.4112\n",
            "input: i just sold all my stocks\n",
            "Prediction: negative - 0\n",
            "Positive probability: 0.3469\n",
            "input: the market is down\n",
            "Prediction: negative - 0\n",
            "Positive probability: 0.2858\n",
            "input: the market is up\n",
            "Prediction: positive - 1\n",
            "Positive probability: 0.8369\n",
            "input: tesla will go to the moon\n",
            "Prediction: positive - 1\n",
            "Positive probability: 0.5178\n",
            "input: time to sell\n",
            "Prediction: positive - 1\n",
            "Positive probability: 0.5122\n",
            "input: time to sell all my stocks\n",
            "Prediction: negative - 0\n",
            "Positive probability: 0.4675\n"
          ]
        }
      ],
      "source": [
        "# Optional: interactive prediction\n",
        "while True:\n",
        "    try:\n",
        "        user_text = input(\"Enter a tweet/text to analyze: \")\n",
        "        if user_text == \"\":\n",
        "            break\n",
        "        if user_text.strip():\n",
        "            labels, probs = predict_texts(user_text, tokenizer, model, max_len=128, threshold=0.5, device=device)\n",
        "            label = int(labels[0])\n",
        "            prob = float(probs[0])\n",
        "            sentiment_str = \"positive - 1\" if label == 1 else \"negative - 0\"\n",
        "            print(f\"input: {user_text}\")\n",
        "            print(f\"Prediction: {sentiment_str}\")\n",
        "            print(f\"Positive probability: {prob:.4f}\")\n",
        "        else:\n",
        "            print(\"No text provided.\")\n",
        "    except EOFError:\n",
        "        # In non-interactive environments, input() may fail\n",
        "        pass\n"
      ]
    }
  ],
  "metadata": {
    "kernelspec": {
      "display_name": "venv",
      "language": "python",
      "name": "python3"
    },
    "language_info": {
      "codemirror_mode": {
        "name": "ipython",
        "version": 3
      },
      "file_extension": ".py",
      "mimetype": "text/x-python",
      "name": "python",
      "nbconvert_exporter": "python",
      "pygments_lexer": "ipython3",
      "version": "3.13.3"
    }
  },
  "nbformat": 4,
  "nbformat_minor": 2
}
