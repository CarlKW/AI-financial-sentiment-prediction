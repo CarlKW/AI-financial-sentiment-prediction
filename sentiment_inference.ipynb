{
  "cells": [
    {
      "cell_type": "code",
      "execution_count": 1,
      "metadata": {},
      "outputs": [],
      "source": [
        "import torch\n",
        "import torch.nn as nn\n",
        "from transformers import AutoModel, AutoTokenizer\n",
        "\n",
        "# Recreate model architecture exactly as in training notebook\n",
        "class FinbertBackbone(nn.Module):\n",
        "    def __init__(self, modelName: str = \"ProsusAI/finbert\"):\n",
        "        super().__init__()\n",
        "        self.encoder = AutoModel.from_pretrained(modelName)\n",
        "        self.hiddenSize = self.encoder.config.hidden_size  # 768 for BERT-base\n",
        "\n",
        "    def forward(self, input_ids, attention_mask):\n",
        "        out = self.encoder(input_ids=input_ids, attention_mask=attention_mask, return_dict=True)\n",
        "        cls = out.last_hidden_state[:, 0]  # [CLS] token\n",
        "        return cls  # [batch, hidden]\n",
        "\n",
        "class BinaryHead(nn.Module):\n",
        "    def __init__(self, inFeatures: int, pDrop: float = 0.1):\n",
        "        super().__init__()\n",
        "        self.dropout = nn.Dropout(pDrop)\n",
        "        self.fc = nn.Linear(inFeatures, 1)  # single logit\n",
        "\n",
        "    def forward(self, x):\n",
        "        x = self.dropout(x)\n",
        "        logits = self.fc(x).squeeze(-1)    # [batch]\n",
        "        return logits\n",
        "\n",
        "class FinbertBinaryClf(nn.Module):\n",
        "    def __init__(self, modelName: str = \"ProsusAI/finbert\", pDrop: float = 0.1):\n",
        "        super().__init__()\n",
        "        self.backbone = FinbertBackbone(modelName)\n",
        "        self.head = BinaryHead(self.backbone.hiddenSize, pDrop)\n",
        "\n",
        "    def forward(self, input_ids, attention_mask):\n",
        "        feats = self.backbone(input_ids, attention_mask)\n",
        "        logits = self.head(feats)\n",
        "        return logits\n"
      ]
    },
    {
      "cell_type": "code",
      "execution_count": 2,
      "metadata": {},
      "outputs": [
        {
          "name": "stdout",
          "output_type": "stream",
          "text": [
            "Device: cpu\n",
            "Model and tokenizer loaded.\n"
          ]
        }
      ],
      "source": [
        "# Load tokenizer and model weights\n",
        "model_name = \"ProsusAI/finbert\"\n",
        "weights_path = \"finbert_custom_head.pt\"  # saved from training notebook\n",
        "\n",
        "device = torch.device(\"cuda\" if torch.cuda.is_available() else \"cpu\")\n",
        "\n",
        "tokenizer = AutoTokenizer.from_pretrained(model_name)\n",
        "model = FinbertBinaryClf(modelName=model_name, pDrop=0.1).to(device)\n",
        "state = torch.load(weights_path, map_location=device)\n",
        "model.load_state_dict(state)\n",
        "model.eval()\n",
        "\n",
        "print(f\"Device: {device}\")\n",
        "print(\"Model and tokenizer loaded.\")\n"
      ]
    },
    {
      "cell_type": "code",
      "execution_count": 3,
      "metadata": {},
      "outputs": [],
      "source": [
        "@torch.no_grad()\n",
        "def predict_texts(texts, tokenizer, model, max_len=128, threshold=0.5, device=None):\n",
        "    device = device or next(model.parameters()).device\n",
        "    model.eval()\n",
        "    if isinstance(texts, str):\n",
        "        texts = [texts]\n",
        "    enc = tokenizer(\n",
        "        texts, truncation=True, padding=\"max_length\", max_length=max_len, return_tensors=\"pt\"\n",
        "    )\n",
        "    logits = model(enc[\"input_ids\"].to(device), enc[\"attention_mask\"].to(device))\n",
        "    probs = torch.sigmoid(logits).cpu().numpy()\n",
        "    labels = (probs >= threshold).astype(int)  # 1=positive, 0=negative\n",
        "    return labels, probs\n"
      ]
    },
    {
      "cell_type": "code",
      "execution_count": 4,
      "metadata": {},
      "outputs": [
        {
          "name": "stdout",
          "output_type": "stream",
          "text": [
            "Input: Great earnings beat and strong guidance!\n",
            "Prediction: positive - 1\n",
            "Positive probability: 0.9928\n"
          ]
        }
      ],
      "source": [
        "# Enter your text/tweet here\n",
        "text = \"Great earnings beat and strong guidance!\"\n",
        "\n",
        "labels, probs = predict_texts(text, tokenizer, model, max_len=128, threshold=0.5, device=device)\n",
        "label = int(labels[0])\n",
        "prob = float(probs[0])\n",
        "\n",
        "sentiment_str = \"positive - 1\" if label == 1 else \"negative - 0\"\n",
        "print(f\"Input: {text}\")\n",
        "print(f\"Prediction: {sentiment_str}\")\n",
        "print(f\"Positive probability: {prob:.4f}\")\n"
      ]
    },
    {
      "cell_type": "code",
      "execution_count": null,
      "metadata": {},
      "outputs": [
        {
          "name": "stdout",
          "output_type": "stream",
          "text": [
            "input: I think i’ll buy some $TSLA today before the close\n",
            "Prediction: positive - 1\n",
            "Positive probability: 0.9921\n",
            "input: Meanwhile things continue to go well at Tesla. Wouldn't know it from the stock price however...\n",
            "Prediction: positive - 1\n",
            "Positive probability: 0.9909\n",
            "input: TSLA now down $60 Pre-split in just a few hours today. Crazy stuff\n",
            "Prediction: positive - 1\n",
            "Positive probability: 0.6694\n",
            "input: Thank you @Tesla for delivering a car to the wrong address (my house), blocking my driveway for hours and not allowing me to pickup my kids from school on such a hot day. On top of that, all your driver had to say was \"\"call Tesla and tell them, I'm just a driver\"\"\n",
            "Prediction: negative - 0\n",
            "Positive probability: 0.3421\n",
            "input: This thing is never coming to market\n",
            "Prediction: negative - 0\n",
            "Positive probability: 0.0676\n",
            "input: Cybertruck will be able to serve as a boat.   This product is going to be nuts, for real.\n",
            "Prediction: positive - 1\n",
            "Positive probability: 0.8089\n",
            "No text provided.\n"
          ]
        }
      ],
      "source": [
        "# Optional: interactive prediction\n",
        "while True:\n",
        "    try:\n",
        "        user_text = input(\"Enter a tweet/text to analyze: \")\n",
        "        if user_text == \"\":\n",
        "            break\n",
        "        if user_text.strip():\n",
        "            labels, probs = predict_texts(user_text, tokenizer, model, max_len=128, threshold=0.5, device=device)\n",
        "            label = int(labels[0])\n",
        "            prob = float(probs[0])\n",
        "            sentiment_str = \"positive - 1\" if label == 1 else \"negative - 0\"\n",
        "            print(f\"input: {user_text}\")\n",
        "            print(f\"Prediction: {sentiment_str}\")\n",
        "            print(f\"Positive probability: {prob:.4f}\")\n",
        "        else:\n",
        "            print(\"No text provided.\")\n",
        "    except EOFError:\n",
        "        # In non-interactive environments, input() may fail\n",
        "        pass\n"
      ]
    }
  ],
  "metadata": {
    "kernelspec": {
      "display_name": "venv",
      "language": "python",
      "name": "python3"
    },
    "language_info": {
      "codemirror_mode": {
        "name": "ipython",
        "version": 3
      },
      "file_extension": ".py",
      "mimetype": "text/x-python",
      "name": "python",
      "nbconvert_exporter": "python",
      "pygments_lexer": "ipython3",
      "version": "3.13.5"
    }
  },
  "nbformat": 4,
  "nbformat_minor": 2
}
